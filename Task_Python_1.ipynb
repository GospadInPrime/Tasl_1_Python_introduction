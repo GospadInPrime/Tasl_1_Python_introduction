{
 "cells": [
  {
   "cell_type": "code",
   "execution_count": 106,
   "metadata": {},
   "outputs": [],
   "source": [
    "import psycopg2 as ps2\n",
    "import json"
   ]
  },
  {
   "cell_type": "code",
   "execution_count": 107,
   "metadata": {},
   "outputs": [],
   "source": [
    "# Функция для чтения данных из файла JSON\n",
    "def read_json(file_path):\n",
    "    with open(file_path) as file:\n",
    "        data = json.load(file)\n",
    "    return data\n"
   ]
  },
  {
   "cell_type": "code",
   "execution_count": 108,
   "metadata": {},
   "outputs": [],
   "source": [
    "conn = ps2.connect(\n",
    "    database='usersbd',\n",
    "    user='postgres',\n",
    "    password='1',\n",
    "    host='localhost',\n",
    "    port='5432'\n",
    ")"
   ]
  },
  {
   "cell_type": "code",
   "execution_count": 109,
   "metadata": {},
   "outputs": [],
   "source": [
    "cur = conn.cursor()"
   ]
  },
  {
   "cell_type": "code",
   "execution_count": 110,
   "metadata": {},
   "outputs": [],
   "source": [
    "# Чтение данных из файлов JSON\n",
    "rooms_data = read_json('C://Users//37544//Downloads//rooms.json')\n",
    "students_data = read_json('C://Users//37544//Downloads//students.json')"
   ]
  },
  {
   "cell_type": "code",
   "execution_count": 111,
   "metadata": {},
   "outputs": [],
   "source": [
    "# Вставка данных в таблицу \"rooms\"\n",
    "for room in rooms_data:\n",
    "    cur.execute(\"INSERT INTO rooms (id, name) VALUES (%s, %s);\", (room['id'], room['name']))"
   ]
  },
  {
   "cell_type": "code",
   "execution_count": 112,
   "metadata": {},
   "outputs": [],
   "source": [
    "# Вставка данных в таблицу \"students\"\n",
    "for student in students_data:\n",
    "    cur.execute(\"INSERT INTO students (id, name, birthday, room_id, sex) VALUES (%s, %s, %s, %s, %s);\",\n",
    "                (student['id'], student['name'], student['birthday'], student['room'], student['sex']))"
   ]
  },
  {
   "cell_type": "code",
   "execution_count": 113,
   "metadata": {},
   "outputs": [
    {
     "name": "stdout",
     "output_type": "stream",
     "text": [
      "Данные успешно загружены в базу данных.\n"
     ]
    }
   ],
   "source": [
    "\n",
    "# Фиксация изменений и закрытие соединения\n",
    "conn.commit()\n",
    "cur.close()\n",
    "conn.close()\n",
    "\n",
    "print(\"Данные успешно загружены в базу данных.\")"
   ]
  }
 ],
 "metadata": {
  "kernelspec": {
   "display_name": "Python 3",
   "language": "python",
   "name": "python3"
  },
  "language_info": {
   "codemirror_mode": {
    "name": "ipython",
    "version": 3
   },
   "file_extension": ".py",
   "mimetype": "text/x-python",
   "name": "python",
   "nbconvert_exporter": "python",
   "pygments_lexer": "ipython3",
   "version": "3.9.12"
  }
 },
 "nbformat": 4,
 "nbformat_minor": 2
}
