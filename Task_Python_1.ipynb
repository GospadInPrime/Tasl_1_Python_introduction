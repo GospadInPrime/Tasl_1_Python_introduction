{
 "cells": [
  {
   "cell_type": "code",
   "execution_count": 100,
   "metadata": {},
   "outputs": [],
   "source": [
    "import psycopg2 as ps2\n",
    "import json"
   ]
  },
  {
   "cell_type": "code",
   "execution_count": 101,
   "metadata": {},
   "outputs": [],
   "source": [
    "# Функция для чтения данных из файла JSON\n",
    "def read_json(file_path):\n",
    "    with open(file_path) as file:\n",
    "        data = json.load(file)\n",
    "    return data\n"
   ]
  },
  {
   "cell_type": "code",
   "execution_count": 102,
   "metadata": {},
   "outputs": [],
   "source": [
    "conn = ps2.connect(\n",
    "    database='usersbd',\n",
    "    user='postgres',\n",
    "    password='1',\n",
    "    host='localhost',\n",
    "    port='5432'\n",
    ")"
   ]
  },
  {
   "cell_type": "code",
   "execution_count": 103,
   "metadata": {},
   "outputs": [],
   "source": [
    "cur = conn.cursor()"
   ]
  },
  {
   "cell_type": "code",
   "execution_count": 104,
   "metadata": {},
   "outputs": [],
   "source": [
    "# Чтение данных из файлов JSON\n",
    "rooms_data = read_json('C://Users//37544//Downloads//rooms.json')\n",
    "students_data = read_json('C://Users//37544//Downloads//students.json')"
   ]
  },
  {
   "cell_type": "code",
   "execution_count": 105,
   "metadata": {},
   "outputs": [
    {
     "ename": "UniqueViolation",
     "evalue": "ОШИБКА:  повторяющееся значение ключа нарушает ограничение уникальности \"rooms_pkey\"\nDETAIL:  Ключ \"(id)=(0)\" уже существует.\n",
     "output_type": "error",
     "traceback": [
      "\u001b[1;31m---------------------------------------------------------------------------\u001b[0m",
      "\u001b[1;31mUniqueViolation\u001b[0m                           Traceback (most recent call last)",
      "\u001b[1;32md:\\GitHub\\Tasl_1_Python_introduction\\Task_Python_1.ipynb Cell 6\u001b[0m line \u001b[0;36m<cell line: 2>\u001b[1;34m()\u001b[0m\n\u001b[0;32m      <a href='vscode-notebook-cell:/d%3A/GitHub/Tasl_1_Python_introduction/Task_Python_1.ipynb#W5sZmlsZQ%3D%3D?line=0'>1</a>\u001b[0m \u001b[39m# Вставка данных в таблицу \"rooms\"\u001b[39;00m\n\u001b[0;32m      <a href='vscode-notebook-cell:/d%3A/GitHub/Tasl_1_Python_introduction/Task_Python_1.ipynb#W5sZmlsZQ%3D%3D?line=1'>2</a>\u001b[0m \u001b[39mfor\u001b[39;00m room \u001b[39min\u001b[39;00m rooms_data:\n\u001b[1;32m----> <a href='vscode-notebook-cell:/d%3A/GitHub/Tasl_1_Python_introduction/Task_Python_1.ipynb#W5sZmlsZQ%3D%3D?line=2'>3</a>\u001b[0m     cur\u001b[39m.\u001b[39;49mexecute(\u001b[39m\"\u001b[39;49m\u001b[39mINSERT INTO rooms (id, name) VALUES (\u001b[39;49m\u001b[39m%s\u001b[39;49;00m\u001b[39m, \u001b[39;49m\u001b[39m%s\u001b[39;49;00m\u001b[39m);\u001b[39;49m\u001b[39m\"\u001b[39;49m, (room[\u001b[39m'\u001b[39;49m\u001b[39mid\u001b[39;49m\u001b[39m'\u001b[39;49m], room[\u001b[39m'\u001b[39;49m\u001b[39mname\u001b[39;49m\u001b[39m'\u001b[39;49m]))\n",
      "\u001b[1;31mUniqueViolation\u001b[0m: ОШИБКА:  повторяющееся значение ключа нарушает ограничение уникальности \"rooms_pkey\"\nDETAIL:  Ключ \"(id)=(0)\" уже существует.\n"
     ]
    }
   ],
   "source": [
    "# Вставка данных в таблицу \"rooms\"\n",
    "for room in rooms_data:\n",
    "    cur.execute(\"INSERT INTO rooms (id, name) VALUES (%s, %s);\", (room['id'], room['name']))"
   ]
  },
  {
   "cell_type": "code",
   "execution_count": null,
   "metadata": {},
   "outputs": [
    {
     "ename": "InFailedSqlTransaction",
     "evalue": "ОШИБКА:  текущая транзакция прервана, команды до конца блока транзакции игнорируются\n",
     "output_type": "error",
     "traceback": [
      "\u001b[1;31m---------------------------------------------------------------------------\u001b[0m",
      "\u001b[1;31mInFailedSqlTransaction\u001b[0m                    Traceback (most recent call last)",
      "\u001b[1;32md:\\GitHub\\Tasl_1_Python_introduction\\Task_Python_1.ipynb Cell 7\u001b[0m line \u001b[0;36m<cell line: 2>\u001b[1;34m()\u001b[0m\n\u001b[0;32m      <a href='vscode-notebook-cell:/d%3A/GitHub/Tasl_1_Python_introduction/Task_Python_1.ipynb#W6sZmlsZQ%3D%3D?line=0'>1</a>\u001b[0m \u001b[39m# Вставка данных в таблицу \"students\"\u001b[39;00m\n\u001b[0;32m      <a href='vscode-notebook-cell:/d%3A/GitHub/Tasl_1_Python_introduction/Task_Python_1.ipynb#W6sZmlsZQ%3D%3D?line=1'>2</a>\u001b[0m \u001b[39mfor\u001b[39;00m student \u001b[39min\u001b[39;00m students_data:\n\u001b[1;32m----> <a href='vscode-notebook-cell:/d%3A/GitHub/Tasl_1_Python_introduction/Task_Python_1.ipynb#W6sZmlsZQ%3D%3D?line=2'>3</a>\u001b[0m     cur\u001b[39m.\u001b[39;49mexecute(\u001b[39m\"\u001b[39;49m\u001b[39mINSERT INTO students (id, name, birthday, room_id, sex) VALUES (\u001b[39;49m\u001b[39m%s\u001b[39;49;00m\u001b[39m, \u001b[39;49m\u001b[39m%s\u001b[39;49;00m\u001b[39m, \u001b[39;49m\u001b[39m%s\u001b[39;49;00m\u001b[39m, \u001b[39;49m\u001b[39m%s\u001b[39;49;00m\u001b[39m, \u001b[39;49m\u001b[39m%s\u001b[39;49;00m\u001b[39m);\u001b[39;49m\u001b[39m\"\u001b[39;49m,\n\u001b[0;32m      <a href='vscode-notebook-cell:/d%3A/GitHub/Tasl_1_Python_introduction/Task_Python_1.ipynb#W6sZmlsZQ%3D%3D?line=3'>4</a>\u001b[0m                 (student[\u001b[39m'\u001b[39;49m\u001b[39mid\u001b[39;49m\u001b[39m'\u001b[39;49m], student[\u001b[39m'\u001b[39;49m\u001b[39mname\u001b[39;49m\u001b[39m'\u001b[39;49m], student[\u001b[39m'\u001b[39;49m\u001b[39mbirthday\u001b[39;49m\u001b[39m'\u001b[39;49m], student[\u001b[39m'\u001b[39;49m\u001b[39mroom\u001b[39;49m\u001b[39m'\u001b[39;49m], student[\u001b[39m'\u001b[39;49m\u001b[39msex\u001b[39;49m\u001b[39m'\u001b[39;49m]))\n",
      "\u001b[1;31mInFailedSqlTransaction\u001b[0m: ОШИБКА:  текущая транзакция прервана, команды до конца блока транзакции игнорируются\n"
     ]
    }
   ],
   "source": [
    "# Вставка данных в таблицу \"students\"\n",
    "for student in students_data:\n",
    "    cur.execute(\"INSERT INTO students (id, name, birthday, room_id, sex) VALUES (%s, %s, %s, %s, %s);\",\n",
    "                (student['id'], student['name'], student['birthday'], student['room'], student['sex']))"
   ]
  },
  {
   "cell_type": "code",
   "execution_count": null,
   "metadata": {},
   "outputs": [
    {
     "name": "stdout",
     "output_type": "stream",
     "text": [
      "Данные успешно загружены в базу данных.\n"
     ]
    }
   ],
   "source": [
    "\n",
    "# Фиксация изменений и закрытие соединения\n",
    "conn.commit()\n",
    "cur.close()\n",
    "conn.close()\n",
    "\n",
    "print(\"Данные успешно загружены в базу данных.\")"
   ]
  }
 ],
 "metadata": {
  "kernelspec": {
   "display_name": "Python 3",
   "language": "python",
   "name": "python3"
  },
  "language_info": {
   "codemirror_mode": {
    "name": "ipython",
    "version": 3
   },
   "file_extension": ".py",
   "mimetype": "text/x-python",
   "name": "python",
   "nbconvert_exporter": "python",
   "pygments_lexer": "ipython3",
   "version": "3.9.12"
  }
 },
 "nbformat": 4,
 "nbformat_minor": 2
}
